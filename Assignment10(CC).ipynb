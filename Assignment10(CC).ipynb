{
  "nbformat": 4,
  "nbformat_minor": 0,
  "metadata": {
    "colab": {
      "provenance": [],
      "include_colab_link": true
    },
    "kernelspec": {
      "name": "python3",
      "display_name": "Python 3"
    },
    "language_info": {
      "name": "python"
    }
  },
  "cells": [
    {
      "cell_type": "markdown",
      "metadata": {
        "id": "view-in-github",
        "colab_type": "text"
      },
      "source": [
        "<a href=\"https://colab.research.google.com/github/Shrutithakur30/UCS420/blob/main/Assignment10(CC).ipynb\" target=\"_parent\"><img src=\"https://colab.research.google.com/assets/colab-badge.svg\" alt=\"Open In Colab\"/></a>"
      ]
    },
    {
      "cell_type": "markdown",
      "source": [
        "**Q1.  Write a unique paragraph (5-6 sentences) about your favorite topic (e.g., sports,\n",
        "technology, food, books, etc.).**\n"
      ],
      "metadata": {
        "id": "z4y1pAasacuN"
      }
    },
    {
      "cell_type": "markdown",
      "source": [
        "1. Convert text to lowercase and remove punctuation using re."
      ],
      "metadata": {
        "id": "VyQucEGNajOU"
      }
    },
    {
      "cell_type": "code",
      "source": [
        "import re\n",
        "paragraph = \"\"\"Artificial Intelligence is transforming the world in numerous ways. It helps in automating repetitive tasks and improving efficiency. AI is being used in healthcare, finance, education, and many other industries. Natural Language Processing, a branch of AI, allows machines to understand human language. It’s fascinating to see how machines can interpret and respond intelligently. The future of AI looks incredibly promising.\"\"\"\n",
        "text_lower = paragraph.lower()\n",
        "text_clean = re.sub(r'[^\\w\\s]','',text_lower)\n",
        "text_lower\n",
        "print(text_clean)"
      ],
      "metadata": {
        "colab": {
          "base_uri": "https://localhost:8080/"
        },
        "id": "LnH-mhDnarrs",
        "outputId": "ca4c051b-bb56-419c-80ed-fd28bed99538"
      },
      "execution_count": null,
      "outputs": [
        {
          "output_type": "stream",
          "name": "stdout",
          "text": [
            "artificial intelligence is transforming the world in numerous ways it helps in automating repetitive tasks and improving efficiency ai is being used in healthcare finance education and many other industries natural language processing a branch of ai allows machines to understand human language its fascinating to see how machines can interpret and respond intelligently the future of ai looks incredibly promising\n"
          ]
        }
      ]
    },
    {
      "cell_type": "markdown",
      "source": [
        "2. Tokenize the text into words and sentences."
      ],
      "metadata": {
        "id": "uOLlO4Deb4H0"
      }
    },
    {
      "cell_type": "code",
      "source": [
        "from nltk.tokenize import word_tokenize,sent_tokenize\n",
        "import nltk\n",
        "nltk.download('punkt_tab')\n",
        "sentences = sent_tokenize(paragraph)\n",
        "words = word_tokenize(paragraph)\n",
        "print(\"Sentences:\", sentences)\n",
        "print(\"Words:\", words)"
      ],
      "metadata": {
        "colab": {
          "base_uri": "https://localhost:8080/"
        },
        "id": "o9IsPpB0b7cU",
        "outputId": "d3594ebb-019f-4f9f-dd43-344d679827a5"
      },
      "execution_count": null,
      "outputs": [
        {
          "output_type": "stream",
          "name": "stderr",
          "text": [
            "[nltk_data] Downloading package punkt_tab to /root/nltk_data...\n",
            "[nltk_data]   Unzipping tokenizers/punkt_tab.zip.\n"
          ]
        },
        {
          "output_type": "stream",
          "name": "stdout",
          "text": [
            "Sentences: ['Artificial Intelligence is transforming the world in numerous ways.', 'It helps in automating repetitive tasks and improving efficiency.', 'AI is being used in healthcare, finance, education, and many other industries.', 'Natural Language Processing, a branch of AI, allows machines to understand human language.', 'It’s fascinating to see how machines can interpret and respond intelligently.', 'The future of AI looks incredibly promising.']\n",
            "Words: ['Artificial', 'Intelligence', 'is', 'transforming', 'the', 'world', 'in', 'numerous', 'ways', '.', 'It', 'helps', 'in', 'automating', 'repetitive', 'tasks', 'and', 'improving', 'efficiency', '.', 'AI', 'is', 'being', 'used', 'in', 'healthcare', ',', 'finance', ',', 'education', ',', 'and', 'many', 'other', 'industries', '.', 'Natural', 'Language', 'Processing', ',', 'a', 'branch', 'of', 'AI', ',', 'allows', 'machines', 'to', 'understand', 'human', 'language', '.', 'It', '’', 's', 'fascinating', 'to', 'see', 'how', 'machines', 'can', 'interpret', 'and', 'respond', 'intelligently', '.', 'The', 'future', 'of', 'AI', 'looks', 'incredibly', 'promising', '.']\n"
          ]
        }
      ]
    },
    {
      "cell_type": "markdown",
      "source": [
        "3. Split using split() and word_tokenize() and compare how Python split and NLTK’s\n",
        "word_tokenize() differ."
      ],
      "metadata": {
        "id": "NbUXOdG2cwVi"
      }
    },
    {
      "cell_type": "code",
      "source": [
        "split_words = text_clean.split()\n",
        "print(\"Using split:\" ,split_words)\n",
        "print(\"Using word_tokenize:\" ,word_tokenize(paragraph))"
      ],
      "metadata": {
        "colab": {
          "base_uri": "https://localhost:8080/"
        },
        "id": "_YTa1GN1c33u",
        "outputId": "c1ab2125-6528-4f2b-e3a3-5024d74aa35d"
      },
      "execution_count": null,
      "outputs": [
        {
          "output_type": "stream",
          "name": "stdout",
          "text": [
            "Using split: ['artificial', 'intelligence', 'is', 'transforming', 'the', 'world', 'in', 'numerous', 'ways', 'it', 'helps', 'in', 'automating', 'repetitive', 'tasks', 'and', 'improving', 'efficiency', 'ai', 'is', 'being', 'used', 'in', 'healthcare', 'finance', 'education', 'and', 'many', 'other', 'industries', 'natural', 'language', 'processing', 'a', 'branch', 'of', 'ai', 'allows', 'machines', 'to', 'understand', 'human', 'language', 'its', 'fascinating', 'to', 'see', 'how', 'machines', 'can', 'interpret', 'and', 'respond', 'intelligently', 'the', 'future', 'of', 'ai', 'looks', 'incredibly', 'promising']\n",
            "Using word_tokenize: ['Artificial', 'Intelligence', 'is', 'transforming', 'the', 'world', 'in', 'numerous', 'ways', '.', 'It', 'helps', 'in', 'automating', 'repetitive', 'tasks', 'and', 'improving', 'efficiency', '.', 'AI', 'is', 'being', 'used', 'in', 'healthcare', ',', 'finance', ',', 'education', ',', 'and', 'many', 'other', 'industries', '.', 'Natural', 'Language', 'Processing', ',', 'a', 'branch', 'of', 'AI', ',', 'allows', 'machines', 'to', 'understand', 'human', 'language', '.', 'It', '’', 's', 'fascinating', 'to', 'see', 'how', 'machines', 'can', 'interpret', 'and', 'respond', 'intelligently', '.', 'The', 'future', 'of', 'AI', 'looks', 'incredibly', 'promising', '.']\n"
          ]
        }
      ]
    },
    {
      "cell_type": "markdown",
      "source": [
        "4. Remove stopwords (using NLTK's stopwords list)."
      ],
      "metadata": {
        "id": "9ILoVRQKd5IV"
      }
    },
    {
      "cell_type": "code",
      "source": [
        "from nltk.corpus import stopwords\n",
        "nltk.download('stopwords')\n",
        "stop_words = set(stopwords.words('english'))\n",
        "filtered_words = [w for w in words if w.lower() not in stop_words]\n",
        "print(filtered_words)"
      ],
      "metadata": {
        "colab": {
          "base_uri": "https://localhost:8080/"
        },
        "id": "FQDOaN9kd8t8",
        "outputId": "e9a2d732-5684-4094-811b-8350a4f0c32d"
      },
      "execution_count": null,
      "outputs": [
        {
          "output_type": "stream",
          "name": "stdout",
          "text": [
            "['Artificial', 'Intelligence', 'transforming', 'world', 'numerous', 'ways', '.', 'helps', 'automating', 'repetitive', 'tasks', 'improving', 'efficiency', '.', 'AI', 'used', 'healthcare', ',', 'finance', ',', 'education', ',', 'many', 'industries', '.', 'Natural', 'Language', 'Processing', ',', 'branch', 'AI', ',', 'allows', 'machines', 'understand', 'human', 'language', '.', '’', 'fascinating', 'see', 'machines', 'interpret', 'respond', 'intelligently', '.', 'future', 'AI', 'looks', 'incredibly', 'promising', '.']\n"
          ]
        },
        {
          "output_type": "stream",
          "name": "stderr",
          "text": [
            "[nltk_data] Downloading package stopwords to /root/nltk_data...\n",
            "[nltk_data]   Unzipping corpora/stopwords.zip.\n"
          ]
        }
      ]
    },
    {
      "cell_type": "markdown",
      "source": [
        "5. Display word frequency distribution (excluding stopwords)."
      ],
      "metadata": {
        "id": "glIuo2PNec2a"
      }
    },
    {
      "cell_type": "code",
      "source": [
        "from nltk.probability import FreqDist\n",
        "fdist = FreqDist(filtered_words)\n",
        "fdist\n"
      ],
      "metadata": {
        "colab": {
          "base_uri": "https://localhost:8080/"
        },
        "id": "h6LN2mO6egjS",
        "outputId": "c57b693a-4c14-47cf-9d82-9d4ad6b6e899"
      },
      "execution_count": null,
      "outputs": [
        {
          "output_type": "execute_result",
          "data": {
            "text/plain": [
              "FreqDist({'.': 6, ',': 5, 'AI': 3, 'machines': 2, 'Artificial': 1, 'Intelligence': 1, 'transforming': 1, 'world': 1, 'numerous': 1, 'ways': 1, ...})"
            ]
          },
          "metadata": {},
          "execution_count": 11
        }
      ]
    },
    {
      "cell_type": "markdown",
      "source": [
        "**Q2. Using the same paragraph from Q1:**"
      ],
      "metadata": {
        "id": "d8AIRPJsfBU2"
      }
    },
    {
      "cell_type": "markdown",
      "source": [
        "1. Extract all words with only alphabets using re.findall()"
      ],
      "metadata": {
        "id": "peJ2Ant9fFw5"
      }
    },
    {
      "cell_type": "code",
      "source": [
        "import re\n",
        "alpha_words = re.findall(r'\\b[a-zA-Z]+\\b',text_clean)\n",
        "alpha_words"
      ],
      "metadata": {
        "colab": {
          "base_uri": "https://localhost:8080/"
        },
        "id": "IvxFmf-ZfJqc",
        "outputId": "345d83ca-fdf9-4de1-9ce7-389d31991633"
      },
      "execution_count": null,
      "outputs": [
        {
          "output_type": "execute_result",
          "data": {
            "text/plain": [
              "['artificial',\n",
              " 'intelligence',\n",
              " 'is',\n",
              " 'transforming',\n",
              " 'the',\n",
              " 'world',\n",
              " 'in',\n",
              " 'numerous',\n",
              " 'ways',\n",
              " 'it',\n",
              " 'helps',\n",
              " 'in',\n",
              " 'automating',\n",
              " 'repetitive',\n",
              " 'tasks',\n",
              " 'and',\n",
              " 'improving',\n",
              " 'efficiency',\n",
              " 'ai',\n",
              " 'is',\n",
              " 'being',\n",
              " 'used',\n",
              " 'in',\n",
              " 'healthcare',\n",
              " 'finance',\n",
              " 'education',\n",
              " 'and',\n",
              " 'many',\n",
              " 'other',\n",
              " 'industries',\n",
              " 'natural',\n",
              " 'language',\n",
              " 'processing',\n",
              " 'a',\n",
              " 'branch',\n",
              " 'of',\n",
              " 'ai',\n",
              " 'allows',\n",
              " 'machines',\n",
              " 'to',\n",
              " 'understand',\n",
              " 'human',\n",
              " 'language',\n",
              " 'its',\n",
              " 'fascinating',\n",
              " 'to',\n",
              " 'see',\n",
              " 'how',\n",
              " 'machines',\n",
              " 'can',\n",
              " 'interpret',\n",
              " 'and',\n",
              " 'respond',\n",
              " 'intelligently',\n",
              " 'the',\n",
              " 'future',\n",
              " 'of',\n",
              " 'ai',\n",
              " 'looks',\n",
              " 'incredibly',\n",
              " 'promising']"
            ]
          },
          "metadata": {},
          "execution_count": 12
        }
      ]
    },
    {
      "cell_type": "markdown",
      "source": [
        "2. Remove stop words using NLTK’s stopword list\n"
      ],
      "metadata": {
        "id": "k19dMGeffm8a"
      }
    },
    {
      "cell_type": "code",
      "source": [
        "from nltk.corpus import stopwords\n",
        "nltk.download('stopwords')\n",
        "stop_words = set(stopwords.words('english'))\n",
        "filtered_alpha =[word for word in alpha_words if word not in stop_words]\n",
        "filtered_alpha"
      ],
      "metadata": {
        "colab": {
          "base_uri": "https://localhost:8080/"
        },
        "id": "bgkYy3W7fsd6",
        "outputId": "4486e976-d0ec-4587-e515-d7f02cd10746"
      },
      "execution_count": null,
      "outputs": [
        {
          "output_type": "stream",
          "name": "stderr",
          "text": [
            "[nltk_data] Downloading package stopwords to /root/nltk_data...\n",
            "[nltk_data]   Package stopwords is already up-to-date!\n"
          ]
        },
        {
          "output_type": "execute_result",
          "data": {
            "text/plain": [
              "['artificial',\n",
              " 'intelligence',\n",
              " 'transforming',\n",
              " 'world',\n",
              " 'numerous',\n",
              " 'ways',\n",
              " 'helps',\n",
              " 'automating',\n",
              " 'repetitive',\n",
              " 'tasks',\n",
              " 'improving',\n",
              " 'efficiency',\n",
              " 'ai',\n",
              " 'used',\n",
              " 'healthcare',\n",
              " 'finance',\n",
              " 'education',\n",
              " 'many',\n",
              " 'industries',\n",
              " 'natural',\n",
              " 'language',\n",
              " 'processing',\n",
              " 'branch',\n",
              " 'ai',\n",
              " 'allows',\n",
              " 'machines',\n",
              " 'understand',\n",
              " 'human',\n",
              " 'language',\n",
              " 'fascinating',\n",
              " 'see',\n",
              " 'machines',\n",
              " 'interpret',\n",
              " 'respond',\n",
              " 'intelligently',\n",
              " 'future',\n",
              " 'ai',\n",
              " 'looks',\n",
              " 'incredibly',\n",
              " 'promising']"
            ]
          },
          "metadata": {},
          "execution_count": 13
        }
      ]
    },
    {
      "cell_type": "markdown",
      "source": [
        "3. Perform stemming with PorterStemmer"
      ],
      "metadata": {
        "id": "Dkb3BMhRgT7Q"
      }
    },
    {
      "cell_type": "code",
      "source": [
        "from nltk.stem import PorterStemmer\n",
        "porter = PorterStemmer()\n",
        "porter_stemmed = [porter.stem(word) for word in filtered_alpha]\n",
        "porter_stemmed\n"
      ],
      "metadata": {
        "colab": {
          "base_uri": "https://localhost:8080/"
        },
        "id": "wna8IbeBgX7b",
        "outputId": "d90193b0-0857-4006-ad83-0c4274e9541b"
      },
      "execution_count": null,
      "outputs": [
        {
          "output_type": "execute_result",
          "data": {
            "text/plain": [
              "['artifici',\n",
              " 'intellig',\n",
              " 'transform',\n",
              " 'world',\n",
              " 'numer',\n",
              " 'way',\n",
              " 'help',\n",
              " 'autom',\n",
              " 'repetit',\n",
              " 'task',\n",
              " 'improv',\n",
              " 'effici',\n",
              " 'ai',\n",
              " 'use',\n",
              " 'healthcar',\n",
              " 'financ',\n",
              " 'educ',\n",
              " 'mani',\n",
              " 'industri',\n",
              " 'natur',\n",
              " 'languag',\n",
              " 'process',\n",
              " 'branch',\n",
              " 'ai',\n",
              " 'allow',\n",
              " 'machin',\n",
              " 'understand',\n",
              " 'human',\n",
              " 'languag',\n",
              " 'fascin',\n",
              " 'see',\n",
              " 'machin',\n",
              " 'interpret',\n",
              " 'respond',\n",
              " 'intellig',\n",
              " 'futur',\n",
              " 'ai',\n",
              " 'look',\n",
              " 'incred',\n",
              " 'promis']"
            ]
          },
          "metadata": {},
          "execution_count": 14
        }
      ]
    },
    {
      "cell_type": "markdown",
      "source": [
        "4. Perform lemmatization with WordNetLemmatizer"
      ],
      "metadata": {
        "id": "k08LJ1e_g9rt"
      }
    },
    {
      "cell_type": "code",
      "source": [
        "from nltk.stem import WordNetLemmatizer\n",
        "nltk.download('wordnet')\n",
        "lemmatizer = WordNetLemmatizer()\n",
        "lemmatized_words = [lemmatizer.lemmatize(word) for word in filtered_alpha]\n",
        "lemmatized_words"
      ],
      "metadata": {
        "colab": {
          "base_uri": "https://localhost:8080/"
        },
        "id": "MHcnd8S9hE3y",
        "outputId": "729021eb-3c5c-4a88-809a-0c94f0c16939"
      },
      "execution_count": null,
      "outputs": [
        {
          "output_type": "stream",
          "name": "stderr",
          "text": [
            "[nltk_data] Downloading package wordnet to /root/nltk_data...\n"
          ]
        },
        {
          "output_type": "execute_result",
          "data": {
            "text/plain": [
              "['artificial',\n",
              " 'intelligence',\n",
              " 'transforming',\n",
              " 'world',\n",
              " 'numerous',\n",
              " 'way',\n",
              " 'help',\n",
              " 'automating',\n",
              " 'repetitive',\n",
              " 'task',\n",
              " 'improving',\n",
              " 'efficiency',\n",
              " 'ai',\n",
              " 'used',\n",
              " 'healthcare',\n",
              " 'finance',\n",
              " 'education',\n",
              " 'many',\n",
              " 'industry',\n",
              " 'natural',\n",
              " 'language',\n",
              " 'processing',\n",
              " 'branch',\n",
              " 'ai',\n",
              " 'allows',\n",
              " 'machine',\n",
              " 'understand',\n",
              " 'human',\n",
              " 'language',\n",
              " 'fascinating',\n",
              " 'see',\n",
              " 'machine',\n",
              " 'interpret',\n",
              " 'respond',\n",
              " 'intelligently',\n",
              " 'future',\n",
              " 'ai',\n",
              " 'look',\n",
              " 'incredibly',\n",
              " 'promising']"
            ]
          },
          "metadata": {},
          "execution_count": 16
        }
      ]
    },
    {
      "cell_type": "markdown",
      "source": [
        "**Q3. Choose 3 short texts of your own (e.g., different news headlines, product reviews).**"
      ],
      "metadata": {
        "id": "urBuRDYeHTiN"
      }
    },
    {
      "cell_type": "markdown",
      "source": [
        "1. Use CountVectorizer to generate the Bag of Words representation."
      ],
      "metadata": {
        "id": "haY65BC2Hcxz"
      }
    },
    {
      "cell_type": "code",
      "source": [
        "from sklearn.feature_extraction.text import CountVectorizer\n",
        "texts =[\n",
        "    \"The phone battery life is excellent and lasts all day.\",\n",
        "    \"I love the camera quality, but the battery drains fast.\",\n",
        "    \"Amazing display and performance, though a bit overpriced.\"\n",
        "]\n",
        "cv = CountVectorizer()\n",
        "bow_matrix = cv.fit_transform(texts)\n",
        "print(\"Vocabulary:\", cv.get_feature_names_out())\n",
        "print(\"Bow matrix:\\n\", bow_matrix.toarray())"
      ],
      "metadata": {
        "colab": {
          "base_uri": "https://localhost:8080/"
        },
        "id": "lwKXfXf1Hjfe",
        "outputId": "1c1133f7-2713-4c23-f67a-66c997a73b5e"
      },
      "execution_count": null,
      "outputs": [
        {
          "output_type": "stream",
          "name": "stdout",
          "text": [
            "Vocabulary: ['all' 'amazing' 'and' 'battery' 'bit' 'but' 'camera' 'day' 'display'\n",
            " 'drains' 'excellent' 'fast' 'is' 'lasts' 'life' 'love' 'overpriced'\n",
            " 'performance' 'phone' 'quality' 'the' 'though']\n",
            "Bow matrix:\n",
            " [[1 0 1 1 0 0 0 1 0 0 1 0 1 1 1 0 0 0 1 0 1 0]\n",
            " [0 0 0 1 0 1 1 0 0 1 0 1 0 0 0 1 0 0 0 1 2 0]\n",
            " [0 1 1 0 1 0 0 0 1 0 0 0 0 0 0 0 1 1 0 0 0 1]]\n"
          ]
        }
      ]
    },
    {
      "cell_type": "markdown",
      "source": [
        "2. Use TfidfVectorizer to compute TF-IDF scores."
      ],
      "metadata": {
        "id": "0ay_j_wAJCWy"
      }
    },
    {
      "cell_type": "code",
      "source": [
        "from sklearn.feature_extraction.text import TfidfVectorizer\n",
        "tfidf = TfidfVectorizer()\n",
        "tfidf_matrix = tfidf.fit_transform(texts)\n",
        "print(\"Vocabulary:\", tfidf.get_feature_names_out())\n",
        "print(\"Tfidf_matrix\\n:\", tfidf_matrix.toarray())"
      ],
      "metadata": {
        "colab": {
          "base_uri": "https://localhost:8080/"
        },
        "id": "IG1ukw4UJKSB",
        "outputId": "d50b0ca5-52df-481f-ae4f-e28f1c3f54bb"
      },
      "execution_count": null,
      "outputs": [
        {
          "output_type": "stream",
          "name": "stdout",
          "text": [
            "Vocabulary: ['all' 'amazing' 'and' 'battery' 'bit' 'but' 'camera' 'day' 'display'\n",
            " 'drains' 'excellent' 'fast' 'is' 'lasts' 'life' 'love' 'overpriced'\n",
            " 'performance' 'phone' 'quality' 'the' 'though']\n",
            "Tfidf_matrix\n",
            ": [[0.338348   0.         0.25732238 0.25732238 0.         0.\n",
            "  0.         0.338348   0.         0.         0.338348   0.\n",
            "  0.338348   0.338348   0.338348   0.         0.         0.\n",
            "  0.338348   0.         0.25732238 0.        ]\n",
            " [0.         0.         0.         0.25504351 0.         0.33535157\n",
            "  0.33535157 0.         0.         0.33535157 0.         0.33535157\n",
            "  0.         0.         0.         0.33535157 0.         0.\n",
            "  0.         0.33535157 0.51008702 0.        ]\n",
            " [0.         0.38988801 0.29651988 0.         0.38988801 0.\n",
            "  0.         0.         0.38988801 0.         0.         0.\n",
            "  0.         0.         0.         0.         0.38988801 0.38988801\n",
            "  0.         0.         0.         0.38988801]]\n"
          ]
        }
      ]
    },
    {
      "cell_type": "markdown",
      "source": [
        "3. Print and interpret the top 3 keywords from each text using TF-IDF."
      ],
      "metadata": {
        "id": "bt3325_DKBeA"
      }
    },
    {
      "cell_type": "code",
      "source": [
        "import numpy as np\n",
        "feature_names = tfidf.get_feature_names_out()\n",
        "for i in range(len(texts)):\n",
        "  print(f\"\\nText {i+1}:\")\n",
        "  tfidf_scores = tfidf_matrix[i].toarray().flatten()\n",
        "  top3_indices = np.argsort(tfidf_scores)[-3:][::-1]\n",
        "  for idx in top3_indices:\n",
        "    print(f\" - {feature_names[idx]}: {tfidf_scores[idx]:.4f}\")"
      ],
      "metadata": {
        "colab": {
          "base_uri": "https://localhost:8080/"
        },
        "id": "2wLZsyKWKEQs",
        "outputId": "c5ae72ee-e59d-4de4-f711-e0744514db62"
      },
      "execution_count": null,
      "outputs": [
        {
          "output_type": "stream",
          "name": "stdout",
          "text": [
            "\n",
            "Text 1:\n",
            " - phone: 0.3383\n",
            " - all: 0.3383\n",
            " - excellent: 0.3383\n",
            "\n",
            "Text 2:\n",
            " - the: 0.5101\n",
            " - quality: 0.3354\n",
            " - camera: 0.3354\n",
            "\n",
            "Text 3:\n",
            " - though: 0.3899\n",
            " - overpriced: 0.3899\n",
            " - performance: 0.3899\n"
          ]
        }
      ]
    },
    {
      "cell_type": "markdown",
      "source": [
        "**Q4. Write 2 short texts (4–6 lines each) describing two different technologies (e.g., AI vs\n",
        "Blockchain).**"
      ],
      "metadata": {
        "id": "lxnA_sGCNOdz"
      }
    },
    {
      "cell_type": "markdown",
      "source": [
        "1. Preprocess and tokenize both texts."
      ],
      "metadata": {
        "id": "BYvvuWh9NWd9"
      }
    },
    {
      "cell_type": "code",
      "source": [
        "import nltk\n",
        "from nltk.tokenize import word_tokenize\n",
        "from nltk.corpus import stopwords\n",
        "nltk.download('stopwords')\n",
        "nltk.download('punkt_tab')\n",
        "import string\n",
        "text1 = \"\"\"Artificial Intelligence (AI) enables machines to think and learn from data.\n",
        "It helps automate tasks and improve decision-making across industries.\"\"\"\n",
        "text2 = \"\"\"Blockchain is a distributed ledger technology that ensures secure and transparent transactions.\n",
        "It eliminates intermediaries and boosts trust in digital operations.\"\"\"\n",
        "\n",
        "def preprocess(text):\n",
        "  text = text.lower()\n",
        "  text = text.translate(str.maketrans('','',string.punctuation))\n",
        "  tokens = word_tokenize(text)\n",
        "  return[w for w in tokens if w not in stopwords.words('english')]\n",
        "\n",
        "tokens1 = preprocess(text1)\n",
        "tokens2 = preprocess(text2)\n",
        "print(\"text1 tokens:\", tokens1)\n",
        "print(\"text2 tokens:\", tokens2)"
      ],
      "metadata": {
        "colab": {
          "base_uri": "https://localhost:8080/"
        },
        "id": "IOj2D-UENZa8",
        "outputId": "2221fa0f-1af6-499b-fb7f-219ab80f2ffd"
      },
      "execution_count": null,
      "outputs": [
        {
          "output_type": "stream",
          "name": "stderr",
          "text": [
            "[nltk_data] Downloading package stopwords to /root/nltk_data...\n",
            "[nltk_data]   Package stopwords is already up-to-date!\n",
            "[nltk_data] Downloading package punkt_tab to /root/nltk_data...\n",
            "[nltk_data]   Unzipping tokenizers/punkt_tab.zip.\n"
          ]
        },
        {
          "output_type": "stream",
          "name": "stdout",
          "text": [
            "text1 tokens: ['artificial', 'intelligence', 'ai', 'enables', 'machines', 'think', 'learn', 'data', 'helps', 'automate', 'tasks', 'improve', 'decisionmaking', 'across', 'industries']\n",
            "text2 tokens: ['blockchain', 'distributed', 'ledger', 'technology', 'ensures', 'secure', 'transparent', 'transactions', 'eliminates', 'intermediaries', 'boosts', 'trust', 'digital', 'operations']\n"
          ]
        }
      ]
    },
    {
      "cell_type": "markdown",
      "source": [
        "2. Calculate:\n",
        "a. Jaccard Similarity using sets\n",
        "b. Cosine Similarity using TfidfVectorizer + cosine_similarity()"
      ],
      "metadata": {
        "id": "8adwroGhPkLE"
      }
    },
    {
      "cell_type": "code",
      "source": [
        "set1,set2 = set(tokens1),set(tokens2)\n",
        "jaccard = len(set1 & set2)/len(set1|set2)\n",
        "print(f\"Jaccard similarity: {jaccard:.4f}\")"
      ],
      "metadata": {
        "colab": {
          "base_uri": "https://localhost:8080/"
        },
        "id": "OcMyqZU2Pn7s",
        "outputId": "a453ade2-37b5-4810-cf1a-f770daf73add"
      },
      "execution_count": null,
      "outputs": [
        {
          "output_type": "stream",
          "name": "stdout",
          "text": [
            "Jaccard similarity: 0.0000\n"
          ]
        }
      ]
    },
    {
      "cell_type": "code",
      "source": [
        "from sklearn.feature_extraction.text import TfidfVectorizer\n",
        "from sklearn.metrics.pairwise import cosine_similarity\n",
        "text1 = ' '.join(tokens1)\n",
        "text2 = ' '.join(tokens2)\n",
        "vectorizer = TfidfVectorizer(stop_words='english')\n",
        "tfidf_matrix = vectorizer.fit_transform([text1,text2])\n",
        "cosin_sim = cosine_similarity(tfidf_matrix[0:1],tfidf_matrix[1:2])\n",
        "print(cosin_sim[0][0])"
      ],
      "metadata": {
        "colab": {
          "base_uri": "https://localhost:8080/"
        },
        "id": "kGIaw_BMSzqG",
        "outputId": "d008052b-ebc2-4b50-f14b-e180cf52b608"
      },
      "execution_count": null,
      "outputs": [
        {
          "output_type": "stream",
          "name": "stdout",
          "text": [
            "0.0\n"
          ]
        }
      ]
    },
    {
      "cell_type": "markdown",
      "source": [
        "**Q5. Write a short review for a product or service.**"
      ],
      "metadata": {
        "id": "CAk8IgrjZ0Lc"
      }
    },
    {
      "cell_type": "markdown",
      "source": [
        "1. Use TextBlob or VADER to find polarity & subjectivity for each review."
      ],
      "metadata": {
        "id": "rEHqDdiFZ9Xm"
      }
    },
    {
      "cell_type": "code",
      "source": [
        "from textblob import TextBlob\n",
        "review = \"The phone is amazing! The camera quality is top-notch, and battery life is excellent.\"\n",
        "blob = TextBlob(review)\n",
        "print(\"Polarity:\", blob.sentiment.polarity)\n",
        "print(\"Subjectivity:\", blob.sentiment.subjectivity)"
      ],
      "metadata": {
        "colab": {
          "base_uri": "https://localhost:8080/"
        },
        "id": "qJAAEcn-aCML",
        "outputId": "c773882a-31c2-481e-94e0-cbec59b09fe6"
      },
      "execution_count": null,
      "outputs": [
        {
          "output_type": "stream",
          "name": "stdout",
          "text": [
            "Polarity: 0.9166666666666666\n",
            "Subjectivity: 0.9666666666666667\n"
          ]
        }
      ]
    },
    {
      "cell_type": "markdown",
      "source": [
        "2. Classify reviews into Positive / Negative / Neutral."
      ],
      "metadata": {
        "id": "wm0CjTvZatyL"
      }
    },
    {
      "cell_type": "code",
      "source": [
        "from textblob import TextBlob\n",
        "review = \"The phone is amazing! The camera quality is top-notch, and battery life is excellent.\"\n",
        "blob = TextBlob(review)\n",
        "polarity = blob.sentiment.polarity\n",
        "if polarity > 0.1:\n",
        "  sentiment = \"positive\"\n",
        "elif polarity < -0.1:\n",
        "  sentiment = \"negative\"\n",
        "else:\n",
        "  sentiment = \"neutral\"\n",
        "print(\"Sentiment:\", sentiment)"
      ],
      "metadata": {
        "colab": {
          "base_uri": "https://localhost:8080/"
        },
        "id": "gtIX89Nta2XA",
        "outputId": "2821070d-f4b4-4ef2-fdd6-dc776c942602"
      },
      "execution_count": null,
      "outputs": [
        {
          "output_type": "stream",
          "name": "stdout",
          "text": [
            "Sentiment: positive\n"
          ]
        }
      ]
    },
    {
      "cell_type": "markdown",
      "source": [
        "3. Create a word cloud using the wordcloud library for all positive reviews."
      ],
      "metadata": {
        "id": "6drlnHw5bv-B"
      }
    },
    {
      "cell_type": "code",
      "source": [
        "from wordcloud import WordCloud\n",
        "import matplotlib.pyplot as plt\n",
        "reviews = [\"The phone is amazing! The camera quality is top-notch, and battery life is excellent.\",\n",
        "    \"Decent performance but poor value for money.\",\n",
        "    \"Absolutely love this phone! Very smooth and responsive.\",\n",
        "    \"Battery drains too quickly, not satisfied.\"]\n",
        "positive_reviews = [r for r in reviews if TextBlob(r).sentiment.polarity > 0.1]\n",
        "positive_text = ' '.join(positive_reviews)\n",
        "wordcloud = WordCloud(width = 600,height=400,background_color ='white').generate(positive_text)\n",
        "plt.figure(figsize=(8, 6))\n",
        "plt.imshow(wordcloud, interpolation='bilinear')\n",
        "plt.axis('off')\n",
        "plt.title(\"Word Cloud of Positive Reviews\")\n",
        "plt.show()"
      ],
      "metadata": {
        "colab": {
          "base_uri": "https://localhost:8080/",
          "height": 472
        },
        "id": "Qx27um80bz6Q",
        "outputId": "726b1aa5-0f51-4375-8e80-6b56d194f8d7"
      },
      "execution_count": null,
      "outputs": [
        {
          "output_type": "display_data",
          "data": {
            "text/plain": [
              "<Figure size 800x600 with 1 Axes>"
            ],
            "image/png": "[encoded data removed]"
          },
          "metadata": {}
        }
      ]
    },
    {
      "cell_type": "markdown",
      "source": [],
      "metadata": {
        "id": "FCY4DSKzHTco"
      }
    }
  ]
}