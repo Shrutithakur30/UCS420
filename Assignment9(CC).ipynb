{
  "nbformat": 4,
  "nbformat_minor": 0,
  "metadata": {
    "colab": {
      "provenance": [],
      "include_colab_link": true
    },
    "kernelspec": {
      "name": "python3",
      "display_name": "Python 3"
    },
    "language_info": {
      "name": "python"
    }
  },
  "cells": [
    {
      "cell_type": "markdown",
      "metadata": {
        "id": "view-in-github",
        "colab_type": "text"
      },
      "source": [
        "<a href=\"https://colab.research.google.com/github/Shrutithakur30/UCS420/blob/main/Assignment9(CC).ipynb\" target=\"_parent\"><img src=\"https://colab.research.google.com/assets/colab-badge.svg\" alt=\"Open In Colab\"/></a>"
      ]
    },
    {
      "cell_type": "markdown",
      "source": [],
      "metadata": {
        "id": "o7qkyvjsiA2p"
      }
    },
    {
      "cell_type": "markdown",
      "source": [
        "Q1.  Write a unique paragraph (5-6 sentences) about your favorite topic (e.g., sports,\n",
        "technology, food, books, etc.).\n"
      ],
      "metadata": {
        "id": "2u57tvwQiCiu"
      }
    },
    {
      "cell_type": "markdown",
      "source": [
        "1. Convert text to lowercase and remove punctua on."
      ],
      "metadata": {
        "id": "ul0RxaRxiJPm"
      }
    },
    {
      "cell_type": "code",
      "source": [
        "import nltk\n",
        "import string\n",
        "from nltk.corpus import stopwords\n",
        "from nltk.tokenize import word_tokenize, sent_tokenize\n",
        "from nltk.probability import FreqDist\n",
        "nltk.download('punkt')\n",
        "nltk.download('stopwords')\n",
        "nltk.download('punkt_tab')\n",
        "text = \"\"\"Technology is evolving rapidly and influencing every aspect of our lives.\n",
        "From smartphones to AI-powered assistants, the advancements are remarkable.\n",
        "We rely on technology for communication, education, and entertainment.\n",
        "It simplifies tasks and enhances productivity.\n",
        "With the Internet of Things, our devices are becoming smarter.\n",
        "Technology continues to reshape the world.\"\"\""
      ],
      "metadata": {
        "colab": {
          "base_uri": "https://localhost:8080/"
        },
        "id": "F-8vKgMWiMM5",
        "outputId": "e453ea81-ec55-4d45-b7b6-7f4fe31fbc23"
      },
      "execution_count": null,
      "outputs": [
        {
          "output_type": "stream",
          "name": "stderr",
          "text": [
            "[nltk_data] Downloading package punkt to /root/nltk_data...\n",
            "[nltk_data]   Package punkt is already up-to-date!\n",
            "[nltk_data] Downloading package stopwords to /root/nltk_data...\n",
            "[nltk_data]   Package stopwords is already up-to-date!\n",
            "[nltk_data] Downloading package punkt_tab to /root/nltk_data...\n",
            "[nltk_data]   Unzipping tokenizers/punkt_tab.zip.\n"
          ]
        }
      ]
    },
    {
      "cell_type": "code",
      "source": [
        "text_clean = text.lower().translate(str.maketrans('','',string.punctuation))\n",
        "text_clean"
      ],
      "metadata": {
        "colab": {
          "base_uri": "https://localhost:8080/",
          "height": 70
        },
        "id": "Jog6xgWOjseO",
        "outputId": "a65565a2-ecf0-4f19-8eb2-7e75b9bd171c"
      },
      "execution_count": null,
      "outputs": [
        {
          "output_type": "execute_result",
          "data": {
            "text/plain": [
              "'technology is evolving rapidly and influencing every aspect of our lives \\nfrom smartphones to aipowered assistants the advancements are remarkable \\nwe rely on technology for communication education and entertainment \\nit simplifies tasks and enhances productivity \\nwith the internet of things our devices are becoming smarter \\ntechnology continues to reshape the world'"
            ],
            "application/vnd.google.colaboratory.intrinsic+json": {
              "type": "string"
            }
          },
          "metadata": {},
          "execution_count": 6
        }
      ]
    },
    {
      "cell_type": "markdown",
      "source": [
        "2. Tokenize the text into words and sentences."
      ],
      "metadata": {
        "id": "mz1tseCplbeA"
      }
    },
    {
      "cell_type": "code",
      "source": [
        "words = word_tokenize(text_clean)\n",
        "\n",
        "words\n"
      ],
      "metadata": {
        "colab": {
          "base_uri": "https://localhost:8080/"
        },
        "id": "o70iqwW4leFp",
        "outputId": "396bc0ea-64be-408e-e993-ece84663a044"
      },
      "execution_count": null,
      "outputs": [
        {
          "output_type": "execute_result",
          "data": {
            "text/plain": [
              "['technology',\n",
              " 'is',\n",
              " 'evolving',\n",
              " 'rapidly',\n",
              " 'and',\n",
              " 'influencing',\n",
              " 'every',\n",
              " 'aspect',\n",
              " 'of',\n",
              " 'our',\n",
              " 'lives',\n",
              " 'from',\n",
              " 'smartphones',\n",
              " 'to',\n",
              " 'aipowered',\n",
              " 'assistants',\n",
              " 'the',\n",
              " 'advancements',\n",
              " 'are',\n",
              " 'remarkable',\n",
              " 'we',\n",
              " 'rely',\n",
              " 'on',\n",
              " 'technology',\n",
              " 'for',\n",
              " 'communication',\n",
              " 'education',\n",
              " 'and',\n",
              " 'entertainment',\n",
              " 'it',\n",
              " 'simplifies',\n",
              " 'tasks',\n",
              " 'and',\n",
              " 'enhances',\n",
              " 'productivity',\n",
              " 'with',\n",
              " 'the',\n",
              " 'internet',\n",
              " 'of',\n",
              " 'things',\n",
              " 'our',\n",
              " 'devices',\n",
              " 'are',\n",
              " 'becoming',\n",
              " 'smarter',\n",
              " 'technology',\n",
              " 'continues',\n",
              " 'to',\n",
              " 'reshape',\n",
              " 'the',\n",
              " 'world']"
            ]
          },
          "metadata": {},
          "execution_count": 14
        }
      ]
    },
    {
      "cell_type": "markdown",
      "source": [],
      "metadata": {
        "id": "7HzUFir7h_kL"
      }
    },
    {
      "cell_type": "code",
      "source": [
        "sentences = sent_tokenize(text)\n",
        "sentences\n"
      ],
      "metadata": {
        "colab": {
          "base_uri": "https://localhost:8080/"
        },
        "id": "hHAN2WaSm2LP",
        "outputId": "9ce39828-3bac-4c2a-813f-a9ec08bcff91"
      },
      "execution_count": null,
      "outputs": [
        {
          "output_type": "execute_result",
          "data": {
            "text/plain": [
              "['Technology is evolving rapidly and influencing every aspect of our lives.',\n",
              " 'From smartphones to AI-powered assistants, the advancements are remarkable.',\n",
              " 'We rely on technology for communication, education, and entertainment.',\n",
              " 'It simplifies tasks and enhances productivity.',\n",
              " 'With the Internet of Things, our devices are becoming smarter.',\n",
              " 'Technology continues to reshape the world.']"
            ]
          },
          "metadata": {},
          "execution_count": 15
        }
      ]
    },
    {
      "cell_type": "markdown",
      "source": [
        "3. Remove stopwords (using NLTK's stopwords list)."
      ],
      "metadata": {
        "id": "tPrReyctnG4e"
      }
    },
    {
      "cell_type": "code",
      "source": [
        "stop_words =set(stopwords.words('english'))\n",
        "filtered_words = [w for w in words if w not in stop_words]\n",
        "stop_words"
      ],
      "metadata": {
        "colab": {
          "base_uri": "https://localhost:8080/"
        },
        "id": "7vKtGh6DnKtO",
        "outputId": "3b58aa98-5b45-48d1-b66d-120e63ad59e9"
      },
      "execution_count": null,
      "outputs": [
        {
          "output_type": "execute_result",
          "data": {
            "text/plain": [
              "{'a',\n",
              " 'about',\n",
              " 'above',\n",
              " 'after',\n",
              " 'again',\n",
              " 'against',\n",
              " 'ain',\n",
              " 'all',\n",
              " 'am',\n",
              " 'an',\n",
              " 'and',\n",
              " 'any',\n",
              " 'are',\n",
              " 'aren',\n",
              " \"aren't\",\n",
              " 'as',\n",
              " 'at',\n",
              " 'be',\n",
              " 'because',\n",
              " 'been',\n",
              " 'before',\n",
              " 'being',\n",
              " 'below',\n",
              " 'between',\n",
              " 'both',\n",
              " 'but',\n",
              " 'by',\n",
              " 'can',\n",
              " 'couldn',\n",
              " \"couldn't\",\n",
              " 'd',\n",
              " 'did',\n",
              " 'didn',\n",
              " \"didn't\",\n",
              " 'do',\n",
              " 'does',\n",
              " 'doesn',\n",
              " \"doesn't\",\n",
              " 'doing',\n",
              " 'don',\n",
              " \"don't\",\n",
              " 'down',\n",
              " 'during',\n",
              " 'each',\n",
              " 'few',\n",
              " 'for',\n",
              " 'from',\n",
              " 'further',\n",
              " 'had',\n",
              " 'hadn',\n",
              " \"hadn't\",\n",
              " 'has',\n",
              " 'hasn',\n",
              " \"hasn't\",\n",
              " 'have',\n",
              " 'haven',\n",
              " \"haven't\",\n",
              " 'having',\n",
              " 'he',\n",
              " \"he'd\",\n",
              " \"he'll\",\n",
              " \"he's\",\n",
              " 'her',\n",
              " 'here',\n",
              " 'hers',\n",
              " 'herself',\n",
              " 'him',\n",
              " 'himself',\n",
              " 'his',\n",
              " 'how',\n",
              " 'i',\n",
              " \"i'd\",\n",
              " \"i'll\",\n",
              " \"i'm\",\n",
              " \"i've\",\n",
              " 'if',\n",
              " 'in',\n",
              " 'into',\n",
              " 'is',\n",
              " 'isn',\n",
              " \"isn't\",\n",
              " 'it',\n",
              " \"it'd\",\n",
              " \"it'll\",\n",
              " \"it's\",\n",
              " 'its',\n",
              " 'itself',\n",
              " 'just',\n",
              " 'll',\n",
              " 'm',\n",
              " 'ma',\n",
              " 'me',\n",
              " 'mightn',\n",
              " \"mightn't\",\n",
              " 'more',\n",
              " 'most',\n",
              " 'mustn',\n",
              " \"mustn't\",\n",
              " 'my',\n",
              " 'myself',\n",
              " 'needn',\n",
              " \"needn't\",\n",
              " 'no',\n",
              " 'nor',\n",
              " 'not',\n",
              " 'now',\n",
              " 'o',\n",
              " 'of',\n",
              " 'off',\n",
              " 'on',\n",
              " 'once',\n",
              " 'only',\n",
              " 'or',\n",
              " 'other',\n",
              " 'our',\n",
              " 'ours',\n",
              " 'ourselves',\n",
              " 'out',\n",
              " 'over',\n",
              " 'own',\n",
              " 're',\n",
              " 's',\n",
              " 'same',\n",
              " 'shan',\n",
              " \"shan't\",\n",
              " 'she',\n",
              " \"she'd\",\n",
              " \"she'll\",\n",
              " \"she's\",\n",
              " 'should',\n",
              " \"should've\",\n",
              " 'shouldn',\n",
              " \"shouldn't\",\n",
              " 'so',\n",
              " 'some',\n",
              " 'such',\n",
              " 't',\n",
              " 'than',\n",
              " 'that',\n",
              " \"that'll\",\n",
              " 'the',\n",
              " 'their',\n",
              " 'theirs',\n",
              " 'them',\n",
              " 'themselves',\n",
              " 'then',\n",
              " 'there',\n",
              " 'these',\n",
              " 'they',\n",
              " \"they'd\",\n",
              " \"they'll\",\n",
              " \"they're\",\n",
              " \"they've\",\n",
              " 'this',\n",
              " 'those',\n",
              " 'through',\n",
              " 'to',\n",
              " 'too',\n",
              " 'under',\n",
              " 'until',\n",
              " 'up',\n",
              " 've',\n",
              " 'very',\n",
              " 'was',\n",
              " 'wasn',\n",
              " \"wasn't\",\n",
              " 'we',\n",
              " \"we'd\",\n",
              " \"we'll\",\n",
              " \"we're\",\n",
              " \"we've\",\n",
              " 'were',\n",
              " 'weren',\n",
              " \"weren't\",\n",
              " 'what',\n",
              " 'when',\n",
              " 'where',\n",
              " 'which',\n",
              " 'while',\n",
              " 'who',\n",
              " 'whom',\n",
              " 'why',\n",
              " 'will',\n",
              " 'with',\n",
              " 'won',\n",
              " \"won't\",\n",
              " 'wouldn',\n",
              " \"wouldn't\",\n",
              " 'y',\n",
              " 'you',\n",
              " \"you'd\",\n",
              " \"you'll\",\n",
              " \"you're\",\n",
              " \"you've\",\n",
              " 'your',\n",
              " 'yours',\n",
              " 'yourself',\n",
              " 'yourselves'}"
            ]
          },
          "metadata": {},
          "execution_count": 18
        }
      ]
    },
    {
      "cell_type": "markdown",
      "source": [
        "4. Display word frequency distribution (excluding stopwords)."
      ],
      "metadata": {
        "id": "jXWhWQBRopnS"
      }
    },
    {
      "cell_type": "code",
      "source": [
        "freq_dist = FreqDist(filtered_words)\n",
        "freq_dist.plot()\n",
        "freq_dist"
      ],
      "metadata": {
        "colab": {
          "base_uri": "https://localhost:8080/",
          "height": 560
        },
        "id": "vp5q9I57ovxa",
        "outputId": "65e891a0-f169-4edb-b2ba-940c73a2c906"
      },
      "execution_count": null,
      "outputs": [
        {
          "output_type": "execute_result",
          "data": {
            "text/plain": [
              "FreqDist({'technology': 3, 'evolving': 1, 'rapidly': 1, 'influencing': 1, 'every': 1, 'aspect': 1, 'lives': 1, 'smartphones': 1, 'aipowered': 1, 'assistants': 1, ...})"
            ]
          },
          "metadata": {},
          "execution_count": 20
        },
        {
          "output_type": "display_data",
          "data": {
            "text/plain": [
              "<Figure size 640x480 with 1 Axes>"
            ],
            "image/png": "[encoded data removed]"
          },
          "metadata": {}
        }
      ]
    },
    {
      "cell_type": "markdown",
      "source": [
        "Q2: **Stemming and Lemmatization**"
      ],
      "metadata": {
        "id": "_g03Cgq0peBx"
      }
    },
    {
      "cell_type": "markdown",
      "source": [
        "1. Take the tokenized words from Question 1 (after stopword removal).\n",
        "2. Apply stemming using NLTK's PorterStemmer and LancasterStemmer.\n",
        "3. Apply lemmatization using NLTK's WordNetLemmatizer.\n",
        "4. Compare and display results of both techniques\n"
      ],
      "metadata": {
        "id": "MMQDprTzpnqh"
      }
    },
    {
      "cell_type": "code",
      "source": [
        "from nltk.stem import PorterStemmer, LancasterStemmer, WordNetLemmatizer\n",
        "nltk.download('wordnet')\n",
        "nltk.download('omw-1.4')"
      ],
      "metadata": {
        "colab": {
          "base_uri": "https://localhost:8080/"
        },
        "id": "JjJmDymhqR3O",
        "outputId": "2f4bc295-5fee-4bc9-f064-46b39e1dd663"
      },
      "execution_count": null,
      "outputs": [
        {
          "output_type": "stream",
          "name": "stderr",
          "text": [
            "[nltk_data] Downloading package wordnet to /root/nltk_data...\n",
            "[nltk_data] Downloading package omw-1.4 to /root/nltk_data...\n"
          ]
        },
        {
          "output_type": "execute_result",
          "data": {
            "text/plain": [
              "True"
            ]
          },
          "metadata": {},
          "execution_count": 22
        }
      ]
    },
    {
      "cell_type": "code",
      "source": [
        "porter = PorterStemmer()\n",
        "lancaster = LancasterStemmer()\n",
        "lemmatizer = WordNetLemmatizer()\n",
        "\n",
        "porter_stemmed = [porter.stem(w) for w in filtered_words]\n",
        "lancaster_stemmed = [lancaster.stem(w) for w in filtered_words]\n",
        "lemmatized = [lemmatizer.lemmatize(w) for w in filtered_words]\n",
        "\n",
        "print(\"Porter:\", porter_stemmed)\n",
        "print(\"Lancaster:\", lancaster_stemmed)\n",
        "print(\"Lemmatized:\", lemmatized)"
      ],
      "metadata": {
        "colab": {
          "base_uri": "https://localhost:8080/"
        },
        "id": "Q9bmV-WKrLT5",
        "outputId": "0d0d0b25-0e05-4419-ac18-9f4f3a13aac8"
      },
      "execution_count": null,
      "outputs": [
        {
          "output_type": "stream",
          "name": "stdout",
          "text": [
            "Porter: ['technolog', 'evolv', 'rapidli', 'influenc', 'everi', 'aspect', 'live', 'smartphon', 'aipow', 'assist', 'advanc', 'remark', 'reli', 'technolog', 'commun', 'educ', 'entertain', 'simplifi', 'task', 'enhanc', 'product', 'internet', 'thing', 'devic', 'becom', 'smarter', 'technolog', 'continu', 'reshap', 'world']\n",
            "Lancaster: ['technolog', 'evolv', 'rapid', 'influ', 'every', 'aspect', 'liv', 'smartphon', 'aipow', 'assist', 'adv', 'remark', 'rely', 'technolog', 'commun', 'educ', 'entertain', 'simpl', 'task', 'enh', 'produc', 'internet', 'thing', 'dev', 'becom', 'smart', 'technolog', 'continu', 'reshap', 'world']\n",
            "Lemmatized: ['technology', 'evolving', 'rapidly', 'influencing', 'every', 'aspect', 'life', 'smartphones', 'aipowered', 'assistant', 'advancement', 'remarkable', 'rely', 'technology', 'communication', 'education', 'entertainment', 'simplifies', 'task', 'enhances', 'productivity', 'internet', 'thing', 'device', 'becoming', 'smarter', 'technology', 'continues', 'reshape', 'world']\n"
          ]
        }
      ]
    },
    {
      "cell_type": "markdown",
      "source": [
        "Q3. **Regular Expressions and Text Spliting**"
      ],
      "metadata": {
        "id": "E5tzGRIZtpyP"
      }
    },
    {
      "cell_type": "markdown",
      "source": [
        "1. Take their original text from Question 1"
      ],
      "metadata": {
        "id": "XmvO6omBtwKH"
      }
    },
    {
      "cell_type": "code",
      "source": [
        "import re\n",
        "original_text = text\n",
        "original_text"
      ],
      "metadata": {
        "colab": {
          "base_uri": "https://localhost:8080/",
          "height": 70
        },
        "id": "jaLoL43Nt-GE",
        "outputId": "40d98125-a0ff-4520-c18f-a14173c8e032"
      },
      "execution_count": null,
      "outputs": [
        {
          "output_type": "execute_result",
          "data": {
            "text/plain": [
              "'Technology is evolving rapidly and influencing every aspect of our lives. \\nFrom smartphones to AI-powered assistants, the advancements are remarkable. \\nWe rely on technology for communication, education, and entertainment. \\nIt simplifies tasks and enhances productivity. \\nWith the Internet of Things, our devices are becoming smarter. \\nTechnology continues to reshape the world.'"
            ],
            "application/vnd.google.colaboratory.intrinsic+json": {
              "type": "string"
            }
          },
          "metadata": {},
          "execution_count": 25
        }
      ]
    },
    {
      "cell_type": "markdown",
      "source": [
        "**2. Use regular expressions to:**\n",
        " a. Extract all words with more than 5 letters."
      ],
      "metadata": {
        "id": "Y7FAOLh5uUxJ"
      }
    },
    {
      "cell_type": "code",
      "source": [
        "long_words = re.findall(r'\\b\\w{6,}\\b', original_text)\n",
        "long_words"
      ],
      "metadata": {
        "colab": {
          "base_uri": "https://localhost:8080/"
        },
        "id": "JcKf-M8Hug7R",
        "outputId": "75a70032-166a-48c8-e1df-ab059118229e"
      },
      "execution_count": null,
      "outputs": [
        {
          "output_type": "execute_result",
          "data": {
            "text/plain": [
              "['Technology',\n",
              " 'evolving',\n",
              " 'rapidly',\n",
              " 'influencing',\n",
              " 'aspect',\n",
              " 'smartphones',\n",
              " 'powered',\n",
              " 'assistants',\n",
              " 'advancements',\n",
              " 'remarkable',\n",
              " 'technology',\n",
              " 'communication',\n",
              " 'education',\n",
              " 'entertainment',\n",
              " 'simplifies',\n",
              " 'enhances',\n",
              " 'productivity',\n",
              " 'Internet',\n",
              " 'Things',\n",
              " 'devices',\n",
              " 'becoming',\n",
              " 'smarter',\n",
              " 'Technology',\n",
              " 'continues',\n",
              " 'reshape']"
            ]
          },
          "metadata": {},
          "execution_count": 26
        }
      ]
    },
    {
      "cell_type": "markdown",
      "source": [
        "b. Extract all numbers (if any exist in their text)."
      ],
      "metadata": {
        "id": "j8GpS3LbxV1v"
      }
    },
    {
      "cell_type": "code",
      "source": [
        "numbers = re.findall(r'\\d+',original_text)\n",
        "numbers"
      ],
      "metadata": {
        "colab": {
          "base_uri": "https://localhost:8080/"
        },
        "id": "g8y0X0QvxZny",
        "outputId": "9c54bbd4-6ff6-4ee7-9e01-505557ddf2ed"
      },
      "execution_count": null,
      "outputs": [
        {
          "output_type": "execute_result",
          "data": {
            "text/plain": [
              "[]"
            ]
          },
          "metadata": {},
          "execution_count": 27
        }
      ]
    },
    {
      "cell_type": "markdown",
      "source": [
        "c. Extract all capitalized words."
      ],
      "metadata": {
        "id": "BJ0JR5X2xm-b"
      }
    },
    {
      "cell_type": "code",
      "source": [
        "capitalized = re.findall(r'\\b[A-Z][a-z]*\\b',original_text)\n",
        "capitalized"
      ],
      "metadata": {
        "colab": {
          "base_uri": "https://localhost:8080/"
        },
        "id": "oLny25QFx3fW",
        "outputId": "5457a1a5-b4fd-47d3-8b2b-37f021a47b4c"
      },
      "execution_count": null,
      "outputs": [
        {
          "output_type": "execute_result",
          "data": {
            "text/plain": [
              "['Technology', 'From', 'We', 'It', 'With', 'Internet', 'Things', 'Technology']"
            ]
          },
          "metadata": {},
          "execution_count": 28
        }
      ]
    },
    {
      "cell_type": "markdown",
      "source": [
        "**3. Use text splitting techniques to:**\n",
        "a. Split the text into words containing only alphabets (removing digits and special\n",
        "characters)."
      ],
      "metadata": {
        "id": "fZr2MKTbytZB"
      }
    },
    {
      "cell_type": "code",
      "source": [
        "from nltk.tokenize import word_tokenize\n",
        "import nltk\n",
        "nltk.download('punkt')\n",
        "tokens = word_tokenize(original_text)\n",
        "\n",
        "alpha_only_words = [word for word in tokens if word.isalpha()]\n",
        "alpha_only_words"
      ],
      "metadata": {
        "colab": {
          "base_uri": "https://localhost:8080/"
        },
        "id": "aLb0eqpJzXBY",
        "outputId": "9fce5ff1-ff23-42c5-bfa7-43ebe94b3348"
      },
      "execution_count": null,
      "outputs": [
        {
          "output_type": "stream",
          "name": "stderr",
          "text": [
            "[nltk_data] Downloading package punkt to /root/nltk_data...\n",
            "[nltk_data]   Package punkt is already up-to-date!\n"
          ]
        },
        {
          "output_type": "execute_result",
          "data": {
            "text/plain": [
              "['Technology',\n",
              " 'is',\n",
              " 'evolving',\n",
              " 'rapidly',\n",
              " 'and',\n",
              " 'influencing',\n",
              " 'every',\n",
              " 'aspect',\n",
              " 'of',\n",
              " 'our',\n",
              " 'lives',\n",
              " 'From',\n",
              " 'smartphones',\n",
              " 'to',\n",
              " 'assistants',\n",
              " 'the',\n",
              " 'advancements',\n",
              " 'are',\n",
              " 'remarkable',\n",
              " 'We',\n",
              " 'rely',\n",
              " 'on',\n",
              " 'technology',\n",
              " 'for',\n",
              " 'communication',\n",
              " 'education',\n",
              " 'and',\n",
              " 'entertainment',\n",
              " 'It',\n",
              " 'simplifies',\n",
              " 'tasks',\n",
              " 'and',\n",
              " 'enhances',\n",
              " 'productivity',\n",
              " 'With',\n",
              " 'the',\n",
              " 'Internet',\n",
              " 'of',\n",
              " 'Things',\n",
              " 'our',\n",
              " 'devices',\n",
              " 'are',\n",
              " 'becoming',\n",
              " 'smarter',\n",
              " 'Technology',\n",
              " 'continues',\n",
              " 'to',\n",
              " 'reshape',\n",
              " 'the',\n",
              " 'world']"
            ]
          },
          "metadata": {},
          "execution_count": 31
        }
      ]
    },
    {
      "cell_type": "markdown",
      "source": [
        "b. Extract words starting with a vowel."
      ],
      "metadata": {
        "id": "KkpyOZGl0bNn"
      }
    },
    {
      "cell_type": "code",
      "source": [
        "vowel_words = [word for word in alpha_only_words if word[0].lower() in 'aeiou']\n",
        "vowel_words"
      ],
      "metadata": {
        "colab": {
          "base_uri": "https://localhost:8080/"
        },
        "id": "jEI0Tyat0f2Y",
        "outputId": "7356f68b-4ba2-44d7-ade3-fcbfa7c98069"
      },
      "execution_count": null,
      "outputs": [
        {
          "output_type": "execute_result",
          "data": {
            "text/plain": [
              "['is',\n",
              " 'evolving',\n",
              " 'and',\n",
              " 'influencing',\n",
              " 'every',\n",
              " 'aspect',\n",
              " 'of',\n",
              " 'our',\n",
              " 'assistants',\n",
              " 'advancements',\n",
              " 'are',\n",
              " 'on',\n",
              " 'education',\n",
              " 'and',\n",
              " 'entertainment',\n",
              " 'It',\n",
              " 'and',\n",
              " 'enhances',\n",
              " 'Internet',\n",
              " 'of',\n",
              " 'our',\n",
              " 'are']"
            ]
          },
          "metadata": {},
          "execution_count": 32
        }
      ]
    },
    {
      "cell_type": "markdown",
      "source": [
        "**Q4. Custom Tokenization & Regex-based Text Cleaning**"
      ],
      "metadata": {
        "id": "xrrCoC0A1IxD"
      }
    },
    {
      "cell_type": "markdown",
      "source": [
        "1. Take original text from Question 1."
      ],
      "metadata": {
        "id": "dhmxBhFp1RZQ"
      }
    },
    {
      "cell_type": "code",
      "source": [
        "Original_text = text\n",
        "Original_text"
      ],
      "metadata": {
        "colab": {
          "base_uri": "https://localhost:8080/",
          "height": 70
        },
        "id": "Ka-7-8dU1ZxE",
        "outputId": "91491fc0-0505-4660-cf5e-5be5e085e462"
      },
      "execution_count": null,
      "outputs": [
        {
          "output_type": "execute_result",
          "data": {
            "text/plain": [
              "'Technology is evolving rapidly and influencing every aspect of our lives. \\nFrom smartphones to AI-powered assistants, the advancements are remarkable. \\nWe rely on technology for communication, education, and entertainment. \\nIt simplifies tasks and enhances productivity. \\nWith the Internet of Things, our devices are becoming smarter. \\nTechnology continues to reshape the world.'"
            ],
            "application/vnd.google.colaboratory.intrinsic+json": {
              "type": "string"
            }
          },
          "metadata": {},
          "execution_count": 33
        }
      ]
    },
    {
      "cell_type": "markdown",
      "source": [
        "**2. Write a custom tokenization function that:**\n",
        "\n",
        "a. Removes punctuation and special symbols, but keeps contractions (e.g.,\n",
        "\"isn't\" should not be split into \"is\" and \"n't\")."
      ],
      "metadata": {
        "id": "giIqGeOi1-MM"
      }
    },
    {
      "cell_type": "code",
      "source": [
        "import re\n",
        "def custom_tokenize(text):\n",
        "   pattern =  r\"\\b(?:\\d+\\.\\d+|\\d+|\\w+(?:[-']\\w+)*)\\b\"\n",
        "   return re.findall(pattern,text)"
      ],
      "metadata": {
        "id": "UhuY7Ijb2MMW"
      },
      "execution_count": null,
      "outputs": []
    },
    {
      "cell_type": "code",
      "source": [
        "text = \"\"\"Technology is evolving rapidly. We rely on AI-powered assistants and state-of-the-art devices.\n",
        "Numbers like 3.14 and 2023 are valid. Emails: user@example.com. URLs: https://openai.com.\n",
        "Phone: 123-456-7890 or +91 9876543210. Don't forget that isn't means is not.\"\"\"\n",
        "tokens = custom_tokenize(text)\n",
        "print(tokens)"
      ],
      "metadata": {
        "colab": {
          "base_uri": "https://localhost:8080/"
        },
        "id": "77qTINSR2wVF",
        "outputId": "90608a4a-5033-45dd-db4b-3481a15998a6"
      },
      "execution_count": null,
      "outputs": [
        {
          "output_type": "stream",
          "name": "stdout",
          "text": [
            "['Technology', 'is', 'evolving', 'rapidly', 'We', 'rely', 'on', 'AI-powered', 'assistants', 'and', 'state-of-the-art', 'devices', 'Numbers', 'like', '3.14', 'and', '2023', 'are', 'valid', 'Emails', 'user', 'example', 'com', 'URLs', 'https', 'openai', 'com', 'Phone', '123', '456', '7890', 'or', '91', '9876543210', \"Don't\", 'forget', 'that', \"isn't\", 'means', 'is', 'not']\n"
          ]
        }
      ]
    },
    {
      "cell_type": "markdown",
      "source": [
        "**3. Use Regex Substitutions (re.sub) to:**\n",
        "\n",
        "a. Replace email addresses with '<EMAIL>' placeholder.\n",
        "b. Replace URLs with '<URL>' placeholder.\n",
        "c. Replace phone numbers (formats: 123-456-7890 or +91 9876543210) with\n",
        "'<PHONE>' placeholder."
      ],
      "metadata": {
        "id": "jVBTBIpl4Zsw"
      }
    },
    {
      "cell_type": "code",
      "source": [
        "def clean_with_placeholders(text):\n",
        "\n",
        "    text = re.sub(r'\\b[\\w\\.-]+@[\\w\\.-]+\\.\\w+\\b','<EMAIL>',text)\n",
        "    text = re.sub(r'https?://\\S+|www\\.\\S+','<URL>',text)\n",
        "    text = re.sub(r'(\\+91\\s?\\d{10}|\\d{3}-\\d{3}-\\d{4})', '<PHONE>',text)\n",
        "    return text\n",
        "\n"
      ],
      "metadata": {
        "id": "E9tUrXQs4sFy"
      },
      "execution_count": null,
      "outputs": []
    },
    {
      "cell_type": "code",
      "source": [
        " cleaned_text = clean_with_placeholders(text)\n",
        " print(cleaned_text)"
      ],
      "metadata": {
        "colab": {
          "base_uri": "https://localhost:8080/"
        },
        "id": "1KnfLx0L57AD",
        "outputId": "d86fbe8f-b299-4640-ff8d-96b2b3cbcdef"
      },
      "execution_count": null,
      "outputs": [
        {
          "output_type": "stream",
          "name": "stdout",
          "text": [
            "Technology is evolving rapidly. We rely on AI-powered assistants and state-of-the-art devices. \n",
            "Numbers like 3.14 and 2023 are valid. Emails: <EMAIL>. URLs: <URL> \n",
            "Phone: <PHONE> or <PHONE>. Don't forget that isn't means is not.\n"
          ]
        }
      ]
    }
  ]
}